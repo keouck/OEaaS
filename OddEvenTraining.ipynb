{
  "nbformat": 4,
  "nbformat_minor": 0,
  "metadata": {
    "colab": {
      "provenance": [],
      "toc_visible": true
    },
    "kernelspec": {
      "name": "python3",
      "display_name": "Python 3"
    },
    "language_info": {
      "name": "python"
    }
  },
  "cells": [
    {
      "cell_type": "markdown",
      "source": [
        "# **Generating the dataset.**"
      ],
      "metadata": {
        "id": "ZCi08vnvJsgi"
      }
    },
    {
      "cell_type": "code",
      "execution_count": null,
      "metadata": {
        "colab": {
          "base_uri": "https://localhost:8080/"
        },
        "id": "jpwblStzIljo",
        "outputId": "895dc60e-4850-4f9e-e4cf-a44686dfa487"
      },
      "outputs": [
        {
          "output_type": "stream",
          "name": "stdout",
          "text": [
            "[1533924, 914788, 7596739, 6691559, 2815703, 3667047, 7726311, 6969928, 9714912, 644751]\n"
          ]
        }
      ],
      "source": [
        "from random import sample\n",
        "import tensorflow as tf\n",
        "\n",
        "data = sample(range(10000000), 100000) # Generate 10000000 numbers\n",
        "print(data[:10]) # Print the first few"
      ]
    },
    {
      "cell_type": "code",
      "source": [
        "inputs = {}\n",
        "for i in range(len(data)):\n",
        "  inputs.update({data[i]: 0 if data[i] % 2 != 0 else 1})"
      ],
      "metadata": {
        "id": "QmvrllKsU9xf"
      },
      "execution_count": null,
      "outputs": []
    },
    {
      "cell_type": "code",
      "source": [
        "import pandas as pd\n",
        "df = pd.DataFrame(inputs.items(), columns=[\"Numbers\", \"Target\"])"
      ],
      "metadata": {
        "id": "Ui3XNMcqXd39"
      },
      "execution_count": null,
      "outputs": []
    },
    {
      "cell_type": "code",
      "source": [
        "df.head()"
      ],
      "metadata": {
        "colab": {
          "base_uri": "https://localhost:8080/",
          "height": 206
        },
        "id": "_ldlAv9VaBP1",
        "outputId": "20096b73-1145-473a-c62f-88c1876fb1ec"
      },
      "execution_count": null,
      "outputs": [
        {
          "output_type": "execute_result",
          "data": {
            "text/plain": [
              "   Numbers  Target\n",
              "0  1533924       1\n",
              "1   914788       1\n",
              "2  7596739       0\n",
              "3  6691559       0\n",
              "4  2815703       0"
            ],
            "text/html": [
              "\n",
              "  <div id=\"df-f1afeadb-0364-4017-8ee0-bd2bd9788955\">\n",
              "    <div class=\"colab-df-container\">\n",
              "      <div>\n",
              "<style scoped>\n",
              "    .dataframe tbody tr th:only-of-type {\n",
              "        vertical-align: middle;\n",
              "    }\n",
              "\n",
              "    .dataframe tbody tr th {\n",
              "        vertical-align: top;\n",
              "    }\n",
              "\n",
              "    .dataframe thead th {\n",
              "        text-align: right;\n",
              "    }\n",
              "</style>\n",
              "<table border=\"1\" class=\"dataframe\">\n",
              "  <thead>\n",
              "    <tr style=\"text-align: right;\">\n",
              "      <th></th>\n",
              "      <th>Numbers</th>\n",
              "      <th>Target</th>\n",
              "    </tr>\n",
              "  </thead>\n",
              "  <tbody>\n",
              "    <tr>\n",
              "      <th>0</th>\n",
              "      <td>1533924</td>\n",
              "      <td>1</td>\n",
              "    </tr>\n",
              "    <tr>\n",
              "      <th>1</th>\n",
              "      <td>914788</td>\n",
              "      <td>1</td>\n",
              "    </tr>\n",
              "    <tr>\n",
              "      <th>2</th>\n",
              "      <td>7596739</td>\n",
              "      <td>0</td>\n",
              "    </tr>\n",
              "    <tr>\n",
              "      <th>3</th>\n",
              "      <td>6691559</td>\n",
              "      <td>0</td>\n",
              "    </tr>\n",
              "    <tr>\n",
              "      <th>4</th>\n",
              "      <td>2815703</td>\n",
              "      <td>0</td>\n",
              "    </tr>\n",
              "  </tbody>\n",
              "</table>\n",
              "</div>\n",
              "      <button class=\"colab-df-convert\" onclick=\"convertToInteractive('df-f1afeadb-0364-4017-8ee0-bd2bd9788955')\"\n",
              "              title=\"Convert this dataframe to an interactive table.\"\n",
              "              style=\"display:none;\">\n",
              "        \n",
              "  <svg xmlns=\"http://www.w3.org/2000/svg\" height=\"24px\"viewBox=\"0 0 24 24\"\n",
              "       width=\"24px\">\n",
              "    <path d=\"M0 0h24v24H0V0z\" fill=\"none\"/>\n",
              "    <path d=\"M18.56 5.44l.94 2.06.94-2.06 2.06-.94-2.06-.94-.94-2.06-.94 2.06-2.06.94zm-11 1L8.5 8.5l.94-2.06 2.06-.94-2.06-.94L8.5 2.5l-.94 2.06-2.06.94zm10 10l.94 2.06.94-2.06 2.06-.94-2.06-.94-.94-2.06-.94 2.06-2.06.94z\"/><path d=\"M17.41 7.96l-1.37-1.37c-.4-.4-.92-.59-1.43-.59-.52 0-1.04.2-1.43.59L10.3 9.45l-7.72 7.72c-.78.78-.78 2.05 0 2.83L4 21.41c.39.39.9.59 1.41.59.51 0 1.02-.2 1.41-.59l7.78-7.78 2.81-2.81c.8-.78.8-2.07 0-2.86zM5.41 20L4 18.59l7.72-7.72 1.47 1.35L5.41 20z\"/>\n",
              "  </svg>\n",
              "      </button>\n",
              "      \n",
              "  <style>\n",
              "    .colab-df-container {\n",
              "      display:flex;\n",
              "      flex-wrap:wrap;\n",
              "      gap: 12px;\n",
              "    }\n",
              "\n",
              "    .colab-df-convert {\n",
              "      background-color: #E8F0FE;\n",
              "      border: none;\n",
              "      border-radius: 50%;\n",
              "      cursor: pointer;\n",
              "      display: none;\n",
              "      fill: #1967D2;\n",
              "      height: 32px;\n",
              "      padding: 0 0 0 0;\n",
              "      width: 32px;\n",
              "    }\n",
              "\n",
              "    .colab-df-convert:hover {\n",
              "      background-color: #E2EBFA;\n",
              "      box-shadow: 0px 1px 2px rgba(60, 64, 67, 0.3), 0px 1px 3px 1px rgba(60, 64, 67, 0.15);\n",
              "      fill: #174EA6;\n",
              "    }\n",
              "\n",
              "    [theme=dark] .colab-df-convert {\n",
              "      background-color: #3B4455;\n",
              "      fill: #D2E3FC;\n",
              "    }\n",
              "\n",
              "    [theme=dark] .colab-df-convert:hover {\n",
              "      background-color: #434B5C;\n",
              "      box-shadow: 0px 1px 3px 1px rgba(0, 0, 0, 0.15);\n",
              "      filter: drop-shadow(0px 1px 2px rgba(0, 0, 0, 0.3));\n",
              "      fill: #FFFFFF;\n",
              "    }\n",
              "  </style>\n",
              "\n",
              "      <script>\n",
              "        const buttonEl =\n",
              "          document.querySelector('#df-f1afeadb-0364-4017-8ee0-bd2bd9788955 button.colab-df-convert');\n",
              "        buttonEl.style.display =\n",
              "          google.colab.kernel.accessAllowed ? 'block' : 'none';\n",
              "\n",
              "        async function convertToInteractive(key) {\n",
              "          const element = document.querySelector('#df-f1afeadb-0364-4017-8ee0-bd2bd9788955');\n",
              "          const dataTable =\n",
              "            await google.colab.kernel.invokeFunction('convertToInteractive',\n",
              "                                                     [key], {});\n",
              "          if (!dataTable) return;\n",
              "\n",
              "          const docLinkHtml = 'Like what you see? Visit the ' +\n",
              "            '<a target=\"_blank\" href=https://colab.research.google.com/notebooks/data_table.ipynb>data table notebook</a>'\n",
              "            + ' to learn more about interactive tables.';\n",
              "          element.innerHTML = '';\n",
              "          dataTable['output_type'] = 'display_data';\n",
              "          await google.colab.output.renderOutput(dataTable, element);\n",
              "          const docLink = document.createElement('div');\n",
              "          docLink.innerHTML = docLinkHtml;\n",
              "          element.appendChild(docLink);\n",
              "        }\n",
              "      </script>\n",
              "    </div>\n",
              "  </div>\n",
              "  "
            ]
          },
          "metadata": {},
          "execution_count": 4
        }
      ]
    },
    {
      "cell_type": "code",
      "source": [
        "target = df.pop('Target')\n",
        "numbers = df['Numbers']\n",
        "tf.convert_to_tensor(numbers)"
      ],
      "metadata": {
        "colab": {
          "base_uri": "https://localhost:8080/"
        },
        "id": "fiQF0YtVc3yN",
        "outputId": "6a99206a-489f-4896-a297-014bb2e2819c"
      },
      "execution_count": null,
      "outputs": [
        {
          "output_type": "execute_result",
          "data": {
            "text/plain": [
              "<tf.Tensor: shape=(100000,), dtype=int64, numpy=array([1533924,  914788, 7596739, ..., 6412921, 9256915, 3329912])>"
            ]
          },
          "metadata": {},
          "execution_count": 5
        }
      ]
    },
    {
      "cell_type": "code",
      "source": [
        "normalizer = tf.keras.layers.Normalization(axis=-1)\n",
        "normalizer.adapt(numbers)\n",
        "normalizer(numbers.iloc[:10])"
      ],
      "metadata": {
        "colab": {
          "base_uri": "https://localhost:8080/"
        },
        "id": "bLpQQVzpelgV",
        "outputId": "49065768-3a42-47e9-8a4a-7700f027b9af"
      },
      "execution_count": null,
      "outputs": [
        {
          "output_type": "execute_result",
          "data": {
            "text/plain": [
              "<tf.Tensor: shape=(1, 10), dtype=float32, numpy=\n",
              "array([[-1.1978403 , -1.4128308 ,  0.9074286 ,  0.5931114 , -0.75275177,\n",
              "        -0.45712867,  0.95242155,  0.689773  ,  1.642949  , -1.5065992 ]],\n",
              "      dtype=float32)>"
            ]
          },
          "metadata": {},
          "execution_count": 6
        }
      ]
    },
    {
      "cell_type": "code",
      "source": [
        "model = tf.keras.Sequential()\n",
        "model.add(tf.keras.layers.Dense(64, input_dim=1, activation='relu'))\n",
        "model.add(tf.keras.layers.Dense(32, activation='relu'))\n",
        "model.add(tf.keras.layers.Dense(16, activation='relu'))\n",
        "model.add(tf.keras.layers.Dense(8, activation='relu'))\n",
        "model.add(tf.keras.layers.Dense(4, activation='relu'))\n",
        "model.add(tf.keras.layers.Dense(2, activation='relu'))\n",
        "model.add(tf.keras.layers.Dense(1, activation='sigmoid'))\n",
        "# Compile model\n",
        "model.compile(loss='mean_squared_error', optimizer='adam', metrics=['accuracy'])"
      ],
      "metadata": {
        "id": "XY4Dx34Veyux"
      },
      "execution_count": null,
      "outputs": []
    },
    {
      "cell_type": "code",
      "source": [
        "model.fit(numbers, target, epochs=30, batch_size=64)"
      ],
      "metadata": {
        "colab": {
          "base_uri": "https://localhost:8080/"
        },
        "id": "kaYjJKPAiXj4",
        "outputId": "bcda07e5-9210-49fe-ecd7-81d495ddb101"
      },
      "execution_count": null,
      "outputs": [
        {
          "output_type": "stream",
          "name": "stdout",
          "text": [
            "Epoch 1/30\n",
            "1563/1563 [==============================] - 5s 2ms/step - loss: 0.5019 - accuracy: 0.4981\n",
            "Epoch 2/30\n",
            "1563/1563 [==============================] - 4s 2ms/step - loss: 0.5020 - accuracy: 0.4981\n",
            "Epoch 3/30\n",
            "1563/1563 [==============================] - 4s 3ms/step - loss: 0.5020 - accuracy: 0.4981\n",
            "Epoch 4/30\n",
            "1563/1563 [==============================] - 8s 5ms/step - loss: 0.5020 - accuracy: 0.4981\n",
            "Epoch 5/30\n",
            "1563/1563 [==============================] - 9s 5ms/step - loss: 0.5020 - accuracy: 0.4981\n",
            "Epoch 6/30\n",
            "1563/1563 [==============================] - 8s 5ms/step - loss: 0.5020 - accuracy: 0.4981\n",
            "Epoch 7/30\n",
            "1563/1563 [==============================] - 6s 4ms/step - loss: 0.5020 - accuracy: 0.4981\n",
            "Epoch 8/30\n",
            "1563/1563 [==============================] - 4s 2ms/step - loss: 0.5020 - accuracy: 0.4981\n",
            "Epoch 9/30\n",
            "1563/1563 [==============================] - 5s 3ms/step - loss: 0.5020 - accuracy: 0.4981\n",
            "Epoch 10/30\n",
            "1563/1563 [==============================] - 4s 2ms/step - loss: 0.5020 - accuracy: 0.4981\n",
            "Epoch 11/30\n",
            "1563/1563 [==============================] - 4s 2ms/step - loss: 0.5020 - accuracy: 0.4981\n",
            "Epoch 12/30\n",
            "1563/1563 [==============================] - 5s 3ms/step - loss: 0.5020 - accuracy: 0.4981\n",
            "Epoch 13/30\n",
            "1563/1563 [==============================] - 4s 2ms/step - loss: 0.5020 - accuracy: 0.4981\n",
            "Epoch 14/30\n",
            "1563/1563 [==============================] - 4s 2ms/step - loss: 0.5020 - accuracy: 0.4981\n",
            "Epoch 15/30\n",
            "1563/1563 [==============================] - 5s 3ms/step - loss: 0.5020 - accuracy: 0.4981\n",
            "Epoch 16/30\n",
            "1563/1563 [==============================] - 4s 2ms/step - loss: 0.5020 - accuracy: 0.4981\n",
            "Epoch 17/30\n",
            "1563/1563 [==============================] - 4s 2ms/step - loss: 0.5020 - accuracy: 0.4981\n",
            "Epoch 18/30\n",
            "1563/1563 [==============================] - 5s 3ms/step - loss: 0.5020 - accuracy: 0.4981\n",
            "Epoch 19/30\n",
            "1563/1563 [==============================] - 4s 3ms/step - loss: 0.5020 - accuracy: 0.4981\n",
            "Epoch 20/30\n",
            "1563/1563 [==============================] - 4s 2ms/step - loss: 0.5020 - accuracy: 0.4981\n",
            "Epoch 21/30\n",
            "1563/1563 [==============================] - 5s 3ms/step - loss: 0.5020 - accuracy: 0.4981\n",
            "Epoch 22/30\n",
            "1563/1563 [==============================] - 4s 2ms/step - loss: 0.5020 - accuracy: 0.4981\n",
            "Epoch 23/30\n",
            "1563/1563 [==============================] - 4s 2ms/step - loss: 0.5020 - accuracy: 0.4981\n",
            "Epoch 24/30\n",
            "1563/1563 [==============================] - 4s 3ms/step - loss: 0.5020 - accuracy: 0.4981\n",
            "Epoch 25/30\n",
            "1563/1563 [==============================] - 4s 3ms/step - loss: 0.5020 - accuracy: 0.4981\n",
            "Epoch 26/30\n",
            "1563/1563 [==============================] - 4s 2ms/step - loss: 0.5020 - accuracy: 0.4981\n",
            "Epoch 27/30\n",
            "1563/1563 [==============================] - 4s 2ms/step - loss: 0.5020 - accuracy: 0.4981\n",
            "Epoch 28/30\n",
            "1563/1563 [==============================] - 5s 3ms/step - loss: 0.5020 - accuracy: 0.4981\n",
            "Epoch 29/30\n",
            "1563/1563 [==============================] - 4s 2ms/step - loss: 0.5020 - accuracy: 0.4981\n",
            "Epoch 30/30\n",
            "1563/1563 [==============================] - 4s 2ms/step - loss: 0.5020 - accuracy: 0.4981\n"
          ]
        },
        {
          "output_type": "execute_result",
          "data": {
            "text/plain": [
              "<keras.callbacks.History at 0x7fe1a84d5310>"
            ]
          },
          "metadata": {},
          "execution_count": 8
        }
      ]
    },
    {
      "cell_type": "code",
      "source": [
        "model.save(\"accurate.h5\")"
      ],
      "metadata": {
        "id": "RApemXN8ndRN"
      },
      "execution_count": null,
      "outputs": []
    },
    {
      "cell_type": "code",
      "source": [],
      "metadata": {
        "id": "5Y3uwaQjqjze"
      },
      "execution_count": null,
      "outputs": []
    }
  ]
}